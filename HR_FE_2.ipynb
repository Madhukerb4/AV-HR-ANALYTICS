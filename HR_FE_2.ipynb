{
 "cells": [
  {
   "cell_type": "code",
   "execution_count": 1,
   "metadata": {},
   "outputs": [],
   "source": [
    "## Importing the required Packages\n",
    "import warnings\n",
    "warnings.filterwarnings('ignore')\n",
    "import numpy as np\n",
    "import pandas as pd\n",
    "from datetime import datetime, date, time\n",
    "import joblib\n",
    "# to display all columns of the dataframe in the notebook\n",
    "pd.pandas.set_option('display.max_columns', None)"
   ]
  },
  {
   "cell_type": "code",
   "execution_count": 2,
   "metadata": {},
   "outputs": [],
   "source": [
    "import matplotlib.pyplot as plt\n",
    "import seaborn as sns\n",
    "%matplotlib inline\n",
    "from matplotlib.pyplot import figure\n",
    "from pylab import rcParams"
   ]
  },
  {
   "cell_type": "code",
   "execution_count": 3,
   "metadata": {},
   "outputs": [],
   "source": [
    "import copy\n",
    "import statistics\n",
    "import scipy.stats as stats\n",
    "from scipy.stats import chi2_contingency, chisquare, lognorm, kstest, shapiro, normaltest\n",
    "from category_encoders import TargetEncoder\n",
    "import scipy\n",
    "import statsmodels.api as sm\n",
    "from statsmodels.stats.outliers_influence import variance_inflation_factor"
   ]
  },
  {
   "cell_type": "markdown",
   "metadata": {},
   "source": [
    "#### loading pickled train dataset"
   ]
  },
  {
   "cell_type": "code",
   "execution_count": 4,
   "metadata": {},
   "outputs": [
    {
     "data": {
      "text/plain": [
       "(54808, 18)"
      ]
     },
     "execution_count": 4,
     "metadata": {},
     "output_type": "execute_result"
    }
   ],
   "source": [
    "#### loading pickled train dataset ####\n",
    "df_train_eda = joblib.load(\"df_train_eda.pkl\")\n",
    "df_train_eda.shape"
   ]
  },
  {
   "cell_type": "code",
   "execution_count": 5,
   "metadata": {},
   "outputs": [
    {
     "data": {
      "text/plain": [
       "Index(['index', 'employee_id', 'department', 'region', 'education', 'gender',\n",
       "       'trainings_attended', 'age', 'previous_rating', 'service_yrs', 'kpi',\n",
       "       'awarded', 'avg_training_score', 'promoted', 'region_rare',\n",
       "       'education_nan', 'gender_le', 'previous_rating_nan'],\n",
       "      dtype='object')"
      ]
     },
     "execution_count": 5,
     "metadata": {},
     "output_type": "execute_result"
    }
   ],
   "source": [
    "df_train_eda.columns"
   ]
  },
  {
   "cell_type": "markdown",
   "metadata": {},
   "source": [
    "#### feature engineering "
   ]
  },
  {
   "cell_type": "markdown",
   "metadata": {},
   "source": [
    "#### 1. f_service_bins"
   ]
  },
  {
   "cell_type": "code",
   "execution_count": 6,
   "metadata": {},
   "outputs": [
    {
     "name": "stdout",
     "output_type": "stream",
     "text": [
      "(54808, 19)\n"
     ]
    }
   ],
   "source": [
    "#### creation of service yrs bins based on quantiles ####\n",
    "service_bins = [0.999, 3.0, 5.0, 7.0, 37.0]\n",
    "service_labels = [1,2,3,4]\n",
    "df_train_eda['f_service_bins'] = pd.cut(df_train_eda['service_yrs'], bins = service_bins, labels = service_labels ).astype(int)\n",
    "print(df_train_eda.shape)"
   ]
  },
  {
   "cell_type": "markdown",
   "metadata": {},
   "source": [
    "#### 2. f_age_bins"
   ]
  },
  {
   "cell_type": "code",
   "execution_count": 7,
   "metadata": {},
   "outputs": [
    {
     "name": "stdout",
     "output_type": "stream",
     "text": [
      "(54808, 20)\n"
     ]
    }
   ],
   "source": [
    "#### creation of employee aged bins based on quantiles ####\n",
    "age_bins = [19.999, 29.0, 33.0, 39.0, 60.0]\n",
    "age_labels = [1,2,3,4]\n",
    "df_train_eda['f_age_bins'] = pd.cut(df_train_eda['age'], bins = age_bins, labels = age_labels).astype(int)\n",
    "print(df_train_eda.shape)"
   ]
  },
  {
   "cell_type": "markdown",
   "metadata": {},
   "source": [
    "#### 3. department_ohe"
   ]
  },
  {
   "cell_type": "code",
   "execution_count": 8,
   "metadata": {},
   "outputs": [
    {
     "data": {
      "text/plain": [
       "(54808, 29)"
      ]
     },
     "execution_count": 8,
     "metadata": {},
     "output_type": "execute_result"
    }
   ],
   "source": [
    "# department one hot encoding\n",
    "ohe_department = pd.get_dummies(df_train_eda['department'], prefix= 'ohe_dept')\n",
    "# adding the onehot encoding columns to X_train dataset based on index\n",
    "df_train_eda = df_train_eda.merge(ohe_department, left_index= True, right_index= True)\n",
    "df_train_eda.shape"
   ]
  },
  {
   "cell_type": "markdown",
   "metadata": {},
   "source": [
    "#### 4. department overview"
   ]
  },
  {
   "cell_type": "code",
   "execution_count": 9,
   "metadata": {},
   "outputs": [
    {
     "name": "stdout",
     "output_type": "stream",
     "text": [
      "(9, 17)\n"
     ]
    },
    {
     "data": {
      "text/plain": [
       "(54808, 45)"
      ]
     },
     "execution_count": 9,
     "metadata": {},
     "output_type": "execute_result"
    }
   ],
   "source": [
    "# department count \n",
    "df_department = pd.DataFrame(df_train_eda.groupby(['department']).size(), columns = ['f_dept_cnt']) \n",
    "# average training score\n",
    "df_department['f_dept_train_score_mean'] = df_train_eda.groupby(['department'])['avg_training_score'].mean()\n",
    "df_department['f_dept_train_score_median'] = df_train_eda.groupby(['department'])['avg_training_score'].median()\n",
    "df_department['f_dept_train_score_min'] = df_train_eda.groupby(['department'])['avg_training_score'].min()\n",
    "df_department['f_dept_train_score_max'] = df_train_eda.groupby(['department'])['avg_training_score'].max()\n",
    "df_department['f_dept_train_score_std'] = df_train_eda.groupby(['department'])['avg_training_score'].std()\n",
    "# age\n",
    "df_department['f_dept_age_mean'] = df_train_eda.groupby(['department'])['age'].mean()\n",
    "df_department['f_dept_age_median'] = df_train_eda.groupby(['department'])['age'].median()\n",
    "df_department['f_dept_age_min'] = df_train_eda.groupby(['department'])['age'].min()\n",
    "df_department['f_dept_age_max'] = df_train_eda.groupby(['department'])['age'].max()\n",
    "df_department['f_dept_age_std'] = df_train_eda.groupby(['department'])['age'].std()\n",
    "\n",
    "# service years\n",
    "df_department['f_dept_service_mean'] = df_train_eda.groupby(['department'])['service_yrs'].mean()\n",
    "df_department['f_dept_service_median'] = df_train_eda.groupby(['department'])['service_yrs'].median()\n",
    "df_department['f_dept_service_min'] = df_train_eda.groupby(['department'])['service_yrs'].min()\n",
    "df_department['f_dept_service_max'] = df_train_eda.groupby(['department'])['service_yrs'].max()\n",
    "df_department['f_dept_service_std'] = df_train_eda.groupby(['department'])['service_yrs'].std()\n",
    "\n",
    "df_department = df_department.reset_index()\n",
    "print(df_department.shape)\n",
    "\n",
    "# adding new columns\n",
    "df_train_eda = pd.merge(df_train_eda, df_department, how = 'left', on= ['department'] )\n",
    "df_train_eda.shape"
   ]
  },
  {
   "cell_type": "markdown",
   "metadata": {},
   "source": [
    "#### 5. region overview"
   ]
  },
  {
   "cell_type": "code",
   "execution_count": 10,
   "metadata": {},
   "outputs": [
    {
     "name": "stdout",
     "output_type": "stream",
     "text": [
      "(27, 17)\n"
     ]
    },
    {
     "data": {
      "text/plain": [
       "(54808, 61)"
      ]
     },
     "execution_count": 10,
     "metadata": {},
     "output_type": "execute_result"
    }
   ],
   "source": [
    "# region count \n",
    "df_region = pd.DataFrame(df_train_eda.groupby(['region_rare']).size(), columns = ['f_region_cnt'])\n",
    "# average training score\n",
    "df_region['f_region_train_score_mean'] = df_train_eda.groupby(['region_rare'])['avg_training_score'].mean()\n",
    "df_region['f_region_train_score_median'] = df_train_eda.groupby(['region_rare'])['avg_training_score'].median()\n",
    "df_region['f_region_train_score_min'] = df_train_eda.groupby(['region_rare'])['avg_training_score'].min()\n",
    "df_region['f_region_train_score_max'] = df_train_eda.groupby(['region_rare'])['avg_training_score'].max()\n",
    "df_region['f_region_train_score_std'] = df_train_eda.groupby(['region_rare'])['avg_training_score'].std()\n",
    "# age\n",
    "df_region['f_region_age_mean'] = df_train_eda.groupby(['region_rare'])['age'].mean()\n",
    "df_region['f_region_age_median'] = df_train_eda.groupby(['region_rare'])['age'].median()\n",
    "df_region['f_region_age_min'] = df_train_eda.groupby(['region_rare'])['age'].min()\n",
    "df_region['f_region_age_max'] = df_train_eda.groupby(['region_rare'])['age'].max()\n",
    "df_region['f_region_age_std'] = df_train_eda.groupby(['region_rare'])['age'].std()\n",
    "# service years\n",
    "df_region['f_region_service_mean'] = df_train_eda.groupby(['region_rare'])['service_yrs'].mean()\n",
    "df_region['f_region_service_median'] = df_train_eda.groupby(['region_rare'])['service_yrs'].median()\n",
    "df_region['f_region_service_min'] = df_train_eda.groupby(['region_rare'])['service_yrs'].min()\n",
    "df_region['f_region_service_max'] = df_train_eda.groupby(['region_rare'])['service_yrs'].max()\n",
    "df_region['f_region_service_std'] = df_train_eda.groupby(['region_rare'])['service_yrs'].std()\n",
    "\n",
    "df_region = df_region.reset_index()\n",
    "print(df_region.shape)\n",
    "\n",
    "# adding new columns\n",
    "df_train_eda = pd.merge(df_train_eda, df_region, how = 'left', on= ['region_rare'] )\n",
    "df_train_eda.shape"
   ]
  },
  {
   "cell_type": "markdown",
   "metadata": {},
   "source": [
    "#### 6. education_ohe"
   ]
  },
  {
   "cell_type": "code",
   "execution_count": 11,
   "metadata": {},
   "outputs": [
    {
     "data": {
      "text/plain": [
       "(54808, 64)"
      ]
     },
     "execution_count": 11,
     "metadata": {},
     "output_type": "execute_result"
    }
   ],
   "source": [
    "# education one hot encoding\n",
    "ohe_education = pd.get_dummies(df_train_eda['education_nan'], prefix= 'ohe_edu')\n",
    "# adding the onehot encoding columns to X_train dataset based on index\n",
    "df_train_eda = df_train_eda.merge(ohe_education, left_index= True, right_index= True)\n",
    "df_train_eda.shape"
   ]
  },
  {
   "cell_type": "markdown",
   "metadata": {},
   "source": [
    "#### 7. education overview"
   ]
  },
  {
   "cell_type": "code",
   "execution_count": 12,
   "metadata": {},
   "outputs": [
    {
     "name": "stdout",
     "output_type": "stream",
     "text": [
      "(3, 17)\n"
     ]
    },
    {
     "data": {
      "text/plain": [
       "(54808, 80)"
      ]
     },
     "execution_count": 12,
     "metadata": {},
     "output_type": "execute_result"
    }
   ],
   "source": [
    "# education count \n",
    "df_education = pd.DataFrame(df_train_eda.groupby(['education_nan']).size(), columns = ['f_edu_cnt'])\n",
    "# average training score\n",
    "df_education['f_edu_train_score_mean'] = df_train_eda.groupby(['education_nan'])['avg_training_score'].mean()\n",
    "df_education['f_edu_train_score_median'] = df_train_eda.groupby(['education_nan'])['avg_training_score'].median()\n",
    "df_education['f_edu_train_score_min'] = df_train_eda.groupby(['education_nan'])['avg_training_score'].min()\n",
    "df_education['f_edu_train_score_max'] = df_train_eda.groupby(['education_nan'])['avg_training_score'].max()\n",
    "df_education['f_edu_train_score_std'] = df_train_eda.groupby(['education_nan'])['avg_training_score'].std()\n",
    "# age\n",
    "df_education['f_edu_age_mean'] = df_train_eda.groupby(['education_nan'])['age'].mean()\n",
    "df_education['f_edu_age_median'] = df_train_eda.groupby(['education_nan'])['age'].median()\n",
    "df_education['f_edu_age_min'] = df_train_eda.groupby(['education_nan'])['age'].min()\n",
    "df_education['f_edu_age_max'] = df_train_eda.groupby(['education_nan'])['age'].max()\n",
    "df_education['f_edu_age_std'] = df_train_eda.groupby(['education_nan'])['age'].std()\n",
    "# service years\n",
    "df_education['f_edu_service_mean'] = df_train_eda.groupby(['education_nan'])['service_yrs'].mean()\n",
    "df_education['f_edu_service_median'] = df_train_eda.groupby(['education_nan'])['service_yrs'].median()\n",
    "df_education['f_edu_service_min'] = df_train_eda.groupby(['education_nan'])['service_yrs'].min()\n",
    "df_education['f_edu_service_max'] = df_train_eda.groupby(['education_nan'])['service_yrs'].max()\n",
    "df_education['f_edu_service_std'] = df_train_eda.groupby(['education_nan'])['service_yrs'].std()\n",
    "\n",
    "df_education = df_education.reset_index()\n",
    "print(df_education.shape)\n",
    "\n",
    "# adding new columns\n",
    "df_train_eda = pd.merge(df_train_eda, df_education, how = 'left', on= ['education_nan'] )\n",
    "df_train_eda.shape"
   ]
  },
  {
   "cell_type": "markdown",
   "metadata": {},
   "source": [
    "#### 8. f_service_left"
   ]
  },
  {
   "cell_type": "code",
   "execution_count": 13,
   "metadata": {},
   "outputs": [
    {
     "data": {
      "text/plain": [
       "(54808, 81)"
      ]
     },
     "execution_count": 13,
     "metadata": {},
     "output_type": "execute_result"
    }
   ],
   "source": [
    "#### no of years left for retirement ####\n",
    "service_left = list(60 - df_train_eda['age'])\n",
    "df_train_eda['f_service_left'] = service_left\n",
    "df_train_eda.shape"
   ]
  },
  {
   "cell_type": "markdown",
   "metadata": {},
   "source": [
    "#### 9. f_trainings_oneplus"
   ]
  },
  {
   "cell_type": "code",
   "execution_count": 14,
   "metadata": {},
   "outputs": [
    {
     "data": {
      "text/plain": [
       "(54808, 82)"
      ]
     },
     "execution_count": 14,
     "metadata": {},
     "output_type": "execute_result"
    }
   ],
   "source": [
    "# more thean one training attended\n",
    "df_train_eda['f_trainings_oneplus'] = np.where(df_train_eda['trainings_attended'] == 1, 0, 1)\n",
    "df_train_eda.shape"
   ]
  },
  {
   "cell_type": "markdown",
   "metadata": {},
   "source": [
    "#### 10. f_rating_edu_cnt"
   ]
  },
  {
   "cell_type": "code",
   "execution_count": 15,
   "metadata": {},
   "outputs": [
    {
     "name": "stdout",
     "output_type": "stream",
     "text": [
      "(18, 3)\n"
     ]
    },
    {
     "data": {
      "text/plain": [
       "(54808, 83)"
      ]
     },
     "execution_count": 15,
     "metadata": {},
     "output_type": "execute_result"
    }
   ],
   "source": [
    "# rating & education combination count \n",
    "df_rating_edu_cnt = pd.DataFrame(df_train_eda.groupby(['previous_rating_nan', 'education_nan']).size(), columns = ['f_rating_edu_cnt'])\n",
    "df_rating_edu_cnt = df_rating_edu_cnt.reset_index()\n",
    "print(df_rating_edu_cnt.shape)\n",
    "\n",
    "# adding new column \n",
    "df_train_eda = pd.merge(df_train_eda, df_rating_edu_cnt, how = 'left', on= ['previous_rating_nan', 'education_nan'] )\n",
    "df_train_eda.shape"
   ]
  },
  {
   "cell_type": "markdown",
   "metadata": {},
   "source": [
    "#### 11. f_rating_dept_cnt"
   ]
  },
  {
   "cell_type": "code",
   "execution_count": 16,
   "metadata": {},
   "outputs": [
    {
     "name": "stdout",
     "output_type": "stream",
     "text": [
      "(54, 3)\n"
     ]
    },
    {
     "data": {
      "text/plain": [
       "(54808, 84)"
      ]
     },
     "execution_count": 16,
     "metadata": {},
     "output_type": "execute_result"
    }
   ],
   "source": [
    "# rating & department combination count \n",
    "df_rating_dept_cnt = pd.DataFrame(df_train_eda.groupby(['previous_rating_nan', 'department']).size(), columns = ['f_rating_dept_cnt'])\n",
    "df_rating_dept_cnt = df_rating_dept_cnt.reset_index()\n",
    "print(df_rating_dept_cnt.shape)\n",
    "\n",
    "# adding new column \n",
    "df_train_eda = pd.merge(df_train_eda, df_rating_dept_cnt, how = 'left', on= ['previous_rating_nan', 'department'] )\n",
    "df_train_eda.shape"
   ]
  },
  {
   "cell_type": "markdown",
   "metadata": {},
   "source": [
    "#### 12. f_dept_edu_cnt"
   ]
  },
  {
   "cell_type": "code",
   "execution_count": 17,
   "metadata": {},
   "outputs": [
    {
     "name": "stdout",
     "output_type": "stream",
     "text": [
      "(24, 3)\n"
     ]
    },
    {
     "data": {
      "text/plain": [
       "(54808, 85)"
      ]
     },
     "execution_count": 17,
     "metadata": {},
     "output_type": "execute_result"
    }
   ],
   "source": [
    "# department & education combination count \n",
    "df_dept_edu_cnt = pd.DataFrame(df_train_eda.groupby(['department', 'education_nan']).size(), columns = ['f_dept_edu_cnt'])\n",
    "df_dept_edu_cnt = df_dept_edu_cnt.reset_index()\n",
    "print(df_dept_edu_cnt.shape)\n",
    "\n",
    "# adding new column \n",
    "df_train_eda = pd.merge(df_train_eda, df_dept_edu_cnt, how = 'left', on= ['department', 'education_nan'] )\n",
    "df_train_eda.shape"
   ]
  },
  {
   "cell_type": "markdown",
   "metadata": {},
   "source": [
    "#### 13. f_dept_region_cnt"
   ]
  },
  {
   "cell_type": "code",
   "execution_count": 18,
   "metadata": {},
   "outputs": [
    {
     "name": "stdout",
     "output_type": "stream",
     "text": [
      "(240, 3)\n"
     ]
    },
    {
     "data": {
      "text/plain": [
       "(54808, 86)"
      ]
     },
     "execution_count": 18,
     "metadata": {},
     "output_type": "execute_result"
    }
   ],
   "source": [
    "# department & region combination count \n",
    "df_dept_region_cnt = pd.DataFrame(df_train_eda.groupby(['department', 'region_rare']).size(), columns = ['f_dept_region_cnt'])\n",
    "df_dept_region_cnt = df_dept_region_cnt.reset_index()\n",
    "print(df_dept_region_cnt.shape)\n",
    "\n",
    "# adding new column \n",
    "df_train_eda = pd.merge(df_train_eda, df_dept_region_cnt, how = 'left', on= ['department', 'region_rare'] )\n",
    "df_train_eda.shape"
   ]
  },
  {
   "cell_type": "markdown",
   "metadata": {},
   "source": [
    "#### 14. f_region_edu_cnt"
   ]
  },
  {
   "cell_type": "code",
   "execution_count": 19,
   "metadata": {},
   "outputs": [
    {
     "name": "stdout",
     "output_type": "stream",
     "text": [
      "(72, 3)\n"
     ]
    },
    {
     "data": {
      "text/plain": [
       "(54808, 87)"
      ]
     },
     "execution_count": 19,
     "metadata": {},
     "output_type": "execute_result"
    }
   ],
   "source": [
    "# region & education combination count \n",
    "df_region_edu_cnt = pd.DataFrame(df_train_eda.groupby(['region_rare', 'education_nan']).size(), columns = ['f_region_edu_cnt'])\n",
    "df_region_edu_cnt = df_region_edu_cnt.reset_index()\n",
    "print(df_region_edu_cnt.shape)\n",
    "\n",
    "# adding new column \n",
    "df_train_eda = pd.merge(df_train_eda, df_region_edu_cnt, how = 'left', on= ['region_rare', 'education_nan'] )\n",
    "df_train_eda.shape"
   ]
  },
  {
   "cell_type": "markdown",
   "metadata": {},
   "source": [
    "#### 15. f_region_rating_cnt"
   ]
  },
  {
   "cell_type": "code",
   "execution_count": 20,
   "metadata": {},
   "outputs": [
    {
     "name": "stdout",
     "output_type": "stream",
     "text": [
      "(162, 3)\n"
     ]
    },
    {
     "data": {
      "text/plain": [
       "(54808, 88)"
      ]
     },
     "execution_count": 20,
     "metadata": {},
     "output_type": "execute_result"
    }
   ],
   "source": [
    "# region & education combination count \n",
    "df_region_rate_cnt = pd.DataFrame(df_train_eda.groupby(['region_rare', 'previous_rating_nan']).size(), columns = ['f_region_rating_cnt'])\n",
    "df_region_rate_cnt = df_region_rate_cnt.reset_index()\n",
    "print(df_region_rate_cnt.shape)\n",
    "\n",
    "# adding new column \n",
    "df_train_eda = pd.merge(df_train_eda, df_region_rate_cnt, how = 'left', on= ['region_rare', 'previous_rating_nan'] )\n",
    "df_train_eda.shape"
   ]
  },
  {
   "cell_type": "markdown",
   "metadata": {},
   "source": [
    "#### 16. f_region_target_encode"
   ]
  },
  {
   "cell_type": "code",
   "execution_count": 21,
   "metadata": {},
   "outputs": [
    {
     "data": {
      "text/plain": [
       "(54808, 89)"
      ]
     },
     "execution_count": 21,
     "metadata": {},
     "output_type": "execute_result"
    }
   ],
   "source": [
    "# region target encoder\n",
    "region_target_encode = TargetEncoder(cols = 'region_rare')\n",
    "region_target_encode.fit(df_train_eda['region_rare'], df_train_eda['promoted'])\n",
    "# adding new column\n",
    "df_train_eda['f_region_target_encode'] = region_target_encode.transform(df_train_eda['region_rare']) \n",
    "df_train_eda.shape"
   ]
  },
  {
   "cell_type": "markdown",
   "metadata": {},
   "source": [
    "#### 17. f_performance"
   ]
  },
  {
   "cell_type": "code",
   "execution_count": 22,
   "metadata": {},
   "outputs": [
    {
     "data": {
      "text/plain": [
       "(54808, 90)"
      ]
     },
     "execution_count": 22,
     "metadata": {},
     "output_type": "execute_result"
    }
   ],
   "source": [
    "# add new column\n",
    "df_train_eda['f_performance'] = (df_train_eda['kpi'] + df_train_eda['previous_rating_nan'])\n",
    "df_train_eda.shape"
   ]
  },
  {
   "cell_type": "code",
   "execution_count": 23,
   "metadata": {},
   "outputs": [
    {
     "data": {
      "text/plain": [
       "Index(['index', 'employee_id', 'department', 'region', 'education', 'gender',\n",
       "       'trainings_attended', 'age', 'previous_rating', 'service_yrs', 'kpi',\n",
       "       'awarded', 'avg_training_score', 'promoted', 'region_rare',\n",
       "       'education_nan', 'gender_le', 'previous_rating_nan', 'f_service_bins',\n",
       "       'f_age_bins', 'ohe_dept_Analytics', 'ohe_dept_Finance', 'ohe_dept_HR',\n",
       "       'ohe_dept_Legal', 'ohe_dept_Operations', 'ohe_dept_Procurement',\n",
       "       'ohe_dept_R&D', 'ohe_dept_Sales & Marketing', 'ohe_dept_Technology',\n",
       "       'f_dept_cnt', 'f_dept_train_score_mean', 'f_dept_train_score_median',\n",
       "       'f_dept_train_score_min', 'f_dept_train_score_max',\n",
       "       'f_dept_train_score_std', 'f_dept_age_mean', 'f_dept_age_median',\n",
       "       'f_dept_age_min', 'f_dept_age_max', 'f_dept_age_std',\n",
       "       'f_dept_service_mean', 'f_dept_service_median', 'f_dept_service_min',\n",
       "       'f_dept_service_max', 'f_dept_service_std', 'f_region_cnt',\n",
       "       'f_region_train_score_mean', 'f_region_train_score_median',\n",
       "       'f_region_train_score_min', 'f_region_train_score_max',\n",
       "       'f_region_train_score_std', 'f_region_age_mean', 'f_region_age_median',\n",
       "       'f_region_age_min', 'f_region_age_max', 'f_region_age_std',\n",
       "       'f_region_service_mean', 'f_region_service_median',\n",
       "       'f_region_service_min', 'f_region_service_max', 'f_region_service_std',\n",
       "       'ohe_edu_Bachelor's', 'ohe_edu_Below Secondary',\n",
       "       'ohe_edu_Master's & above', 'f_edu_cnt', 'f_edu_train_score_mean',\n",
       "       'f_edu_train_score_median', 'f_edu_train_score_min',\n",
       "       'f_edu_train_score_max', 'f_edu_train_score_std', 'f_edu_age_mean',\n",
       "       'f_edu_age_median', 'f_edu_age_min', 'f_edu_age_max', 'f_edu_age_std',\n",
       "       'f_edu_service_mean', 'f_edu_service_median', 'f_edu_service_min',\n",
       "       'f_edu_service_max', 'f_edu_service_std', 'f_service_left',\n",
       "       'f_trainings_oneplus', 'f_rating_edu_cnt', 'f_rating_dept_cnt',\n",
       "       'f_dept_edu_cnt', 'f_dept_region_cnt', 'f_region_edu_cnt',\n",
       "       'f_region_rating_cnt', 'f_region_target_encode', 'f_performance'],\n",
       "      dtype='object')"
      ]
     },
     "execution_count": 23,
     "metadata": {},
     "output_type": "execute_result"
    }
   ],
   "source": [
    "# features names\n",
    "df_train_eda.columns"
   ]
  },
  {
   "cell_type": "markdown",
   "metadata": {},
   "source": [
    "#### pickling"
   ]
  },
  {
   "cell_type": "code",
   "execution_count": 24,
   "metadata": {},
   "outputs": [
    {
     "name": "stdout",
     "output_type": "stream",
     "text": [
      "(54808, 90)\n"
     ]
    },
    {
     "data": {
      "text/plain": [
       "['df_train_fe.pkl']"
      ]
     },
     "execution_count": 24,
     "metadata": {},
     "output_type": "execute_result"
    }
   ],
   "source": [
    "#### pickling the df_train_eda dataset ####\n",
    "print(df_train_eda.shape)\n",
    "joblib.dump(df_train_eda, \"df_train_fe.pkl\")"
   ]
  },
  {
   "cell_type": "code",
   "execution_count": 25,
   "metadata": {},
   "outputs": [
    {
     "name": "stdout",
     "output_type": "stream",
     "text": [
      "['fe_1.pkl']\n",
      "['fe_2.pkl']\n",
      "['fe_3.pkl']\n"
     ]
    }
   ],
   "source": [
    "# feature engineering \n",
    "print(joblib.dump((service_bins, service_labels), \"fe_1.pkl\"))\n",
    "print(joblib.dump((age_bins, age_labels), \"fe_2.pkl\"))\n",
    "print(joblib.dump((df_department, df_region, df_education, df_rating_edu_cnt, df_rating_dept_cnt, df_dept_edu_cnt, df_dept_region_cnt, df_region_edu_cnt, df_region_rate_cnt), \"fe_3.pkl\" ))"
   ]
  },
  {
   "cell_type": "code",
   "execution_count": 26,
   "metadata": {},
   "outputs": [
    {
     "name": "stdout",
     "output_type": "stream",
     "text": [
      "['region_target_encode.pkl']\n"
     ]
    }
   ],
   "source": [
    "# region target encoding\n",
    "print(joblib.dump(region_target_encode, \"region_target_encode.pkl\"))"
   ]
  },
  {
   "cell_type": "code",
   "execution_count": null,
   "metadata": {},
   "outputs": [],
   "source": []
  },
  {
   "cell_type": "code",
   "execution_count": null,
   "metadata": {},
   "outputs": [],
   "source": []
  },
  {
   "cell_type": "code",
   "execution_count": null,
   "metadata": {},
   "outputs": [],
   "source": []
  },
  {
   "cell_type": "code",
   "execution_count": null,
   "metadata": {},
   "outputs": [],
   "source": []
  }
 ],
 "metadata": {
  "kernelspec": {
   "display_name": "Python 3",
   "language": "python",
   "name": "python3"
  },
  "language_info": {
   "codemirror_mode": {
    "name": "ipython",
    "version": 3
   },
   "file_extension": ".py",
   "mimetype": "text/x-python",
   "name": "python",
   "nbconvert_exporter": "python",
   "pygments_lexer": "ipython3",
   "version": "3.7.3"
  }
 },
 "nbformat": 4,
 "nbformat_minor": 2
}

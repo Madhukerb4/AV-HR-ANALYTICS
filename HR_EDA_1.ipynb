{
 "cells": [
  {
   "cell_type": "markdown",
   "metadata": {},
   "source": [
    "#### HR Analytics EDA"
   ]
  },
  {
   "cell_type": "markdown",
   "metadata": {},
   "source": [
    "#### fearures description\n",
    "    1. employee_id - Unique ID for employee\n",
    "    2. department - Department of employee\n",
    "    3. region - Region of employment (unordered)\n",
    "    4. education - Education Level\n",
    "    5. gender - Gender of Employee\n",
    "    6. recruitment_channel - Channel of recruitment for employee\n",
    "    7. no_of_trainings - no of other trainings completed in previous year on soft skills, technical skills etc.\n",
    "    8. age - Age of Employee\n",
    "    9. previous_year_rating - Employee Rating for the previous year\n",
    "    10. length_of_service - Length of service in years\n",
    "    11. KPIs_met >80% - if Percent of KPIs(Key performance Indicators) >80% then 1 else 0\n",
    "    12. awards_won? - if awards won during previous year then 1 else 0\n",
    "    13. avg_training_score - Average score in current training evaluations\n",
    "    14. is_promoted - (Target) Recommended for promotion\n",
    "#### Evaluation Metric\n",
    "     F1 Score"
   ]
  },
  {
   "cell_type": "code",
   "execution_count": 1,
   "metadata": {},
   "outputs": [],
   "source": [
    "## Importing the required Packages\n",
    "import warnings\n",
    "warnings.filterwarnings('ignore')\n",
    "import numpy as np\n",
    "import pandas as pd\n",
    "from datetime import datetime, date, time\n",
    "from pandas_profiling import ProfileReport\n",
    "import joblib\n",
    "# to display all columns of the dataframe in the notebook\n",
    "pd.pandas.set_option('display.max_columns', None)"
   ]
  },
  {
   "cell_type": "code",
   "execution_count": 2,
   "metadata": {},
   "outputs": [],
   "source": [
    "import matplotlib.pyplot as plt\n",
    "import seaborn as sns\n",
    "%matplotlib inline\n",
    "from matplotlib.pyplot import figure\n",
    "from pylab import rcParams\n",
    "import scipy.stats as stats"
   ]
  },
  {
   "cell_type": "code",
   "execution_count": 3,
   "metadata": {},
   "outputs": [],
   "source": [
    "#import copy\n",
    "#import statistics\n",
    "#from scipy.stats import chi2_contingency, chisquare, lognorm, kstest, shapiro, normaltest, chi2\n",
    "#import scipy\n",
    "#import statsmodels.api as sm\n",
    "#from category_encoders import TargetEncoder\n",
    "#from itertools import combinations"
   ]
  },
  {
   "cell_type": "markdown",
   "metadata": {},
   "source": [
    "#### Importing Source Train File"
   ]
  },
  {
   "cell_type": "code",
   "execution_count": 4,
   "metadata": {},
   "outputs": [
    {
     "name": "stdout",
     "output_type": "stream",
     "text": [
      "(54808, 14)\n",
      "(54808, 14)\n"
     ]
    }
   ],
   "source": [
    "#### source dataset ####\n",
    "train_data = pd.read_csv(\"C:\\\\Users\\\\krupakar\\\\Desktop\\\\PythonPractise\\\\Datasets\\\\Vidya_Analytics_Hackathon\\\\HR Analytics\\\\train_LZdllcl.csv\")\n",
    "print(train_data.shape)\n",
    "X_train = train_data.copy()\n",
    "print(X_train.shape)"
   ]
  },
  {
   "cell_type": "code",
   "execution_count": 5,
   "metadata": {},
   "outputs": [],
   "source": [
    "#### renaming the column names ####\n",
    "X_train= X_train.rename(columns = {'no_of_trainings': 'trainings_attended',\n",
    "                                     'previous_year_rating': 'previous_rating',\n",
    "                                     'length_of_service': 'service_yrs', \n",
    "                                     'KPIs_met >80%' : 'kpi', \n",
    "                                     'awards_won?' : 'awarded', \n",
    "                                     'is_promoted' : 'promoted' })"
   ]
  },
  {
   "cell_type": "code",
   "execution_count": 6,
   "metadata": {},
   "outputs": [],
   "source": [
    "#### drop duplicate rows ####\n",
    "#df_combine = df_combine.drop_duplicates(keep = 'first')\n",
    "#df_train.shape"
   ]
  },
  {
   "cell_type": "code",
   "execution_count": 7,
   "metadata": {},
   "outputs": [
    {
     "data": {
      "text/plain": [
       "(54808, 15)"
      ]
     },
     "execution_count": 7,
     "metadata": {},
     "output_type": "execute_result"
    }
   ],
   "source": [
    "# reset index\n",
    "X_train = X_train.reset_index()\n",
    "X_train.shape"
   ]
  },
  {
   "cell_type": "code",
   "execution_count": 8,
   "metadata": {},
   "outputs": [
    {
     "name": "stdout",
     "output_type": "stream",
     "text": [
      "(54808, 14)\n"
     ]
    }
   ],
   "source": [
    "#### dropping empoyee id ####\n",
    "X_train = X_train.drop(labels = ['recruitment_channel'], axis =1)\n",
    "print(X_train.shape)"
   ]
  },
  {
   "cell_type": "code",
   "execution_count": 9,
   "metadata": {
    "scrolled": true
   },
   "outputs": [
    {
     "name": "stdout",
     "output_type": "stream",
     "text": [
      "<class 'pandas.core.frame.DataFrame'>\n",
      "RangeIndex: 54808 entries, 0 to 54807\n",
      "Data columns (total 14 columns):\n",
      "index                 54808 non-null int64\n",
      "employee_id           54808 non-null int64\n",
      "department            54808 non-null object\n",
      "region                54808 non-null object\n",
      "education             52399 non-null object\n",
      "gender                54808 non-null object\n",
      "trainings_attended    54808 non-null int64\n",
      "age                   54808 non-null int64\n",
      "previous_rating       50684 non-null float64\n",
      "service_yrs           54808 non-null int64\n",
      "kpi                   54808 non-null int64\n",
      "awarded               54808 non-null int64\n",
      "avg_training_score    54808 non-null int64\n",
      "promoted              54808 non-null int64\n",
      "dtypes: float64(1), int64(9), object(4)\n",
      "memory usage: 5.9+ MB\n"
     ]
    }
   ],
   "source": [
    "#### basic data validations ####\n",
    "X_train.info()"
   ]
  },
  {
   "cell_type": "code",
   "execution_count": 10,
   "metadata": {},
   "outputs": [
    {
     "data": {
      "text/plain": [
       "index                    0\n",
       "employee_id              0\n",
       "department               0\n",
       "region                   0\n",
       "education             2409\n",
       "gender                   0\n",
       "trainings_attended       0\n",
       "age                      0\n",
       "previous_rating       4124\n",
       "service_yrs              0\n",
       "kpi                      0\n",
       "awarded                  0\n",
       "avg_training_score       0\n",
       "promoted                 0\n",
       "dtype: int64"
      ]
     },
     "execution_count": 10,
     "metadata": {},
     "output_type": "execute_result"
    }
   ],
   "source": [
    "#### nan or null columns ####\n",
    "X_train.isna().sum()"
   ]
  },
  {
   "cell_type": "markdown",
   "metadata": {},
   "source": [
    "#### insights :\n",
    "    1. education = 4.4%\n",
    "    2. last_rating = 7.6 %"
   ]
  },
  {
   "cell_type": "code",
   "execution_count": 11,
   "metadata": {},
   "outputs": [
    {
     "data": {
      "text/plain": [
       "index                 54808\n",
       "employee_id           54808\n",
       "department                9\n",
       "region                   34\n",
       "education                 3\n",
       "gender                    2\n",
       "trainings_attended       10\n",
       "age                      41\n",
       "previous_rating           5\n",
       "service_yrs              35\n",
       "kpi                       2\n",
       "awarded                   2\n",
       "avg_training_score       61\n",
       "promoted                  2\n",
       "dtype: int64"
      ]
     },
     "execution_count": 11,
     "metadata": {},
     "output_type": "execute_result"
    }
   ],
   "source": [
    "#### unique values count ####\n",
    "X_train.nunique()"
   ]
  },
  {
   "cell_type": "markdown",
   "metadata": {},
   "source": [
    "### Exploratory Data Analysis"
   ]
  },
  {
   "cell_type": "markdown",
   "metadata": {},
   "source": [
    "#### 1. Promoted Target Feature Analysis"
   ]
  },
  {
   "cell_type": "code",
   "execution_count": 12,
   "metadata": {},
   "outputs": [
    {
     "name": "stdout",
     "output_type": "stream",
     "text": [
      "promotion counts: \n",
      "0    50140\n",
      "1     4668\n",
      "Name: promoted, dtype: int64\n",
      "\n"
     ]
    },
    {
     "data": {
      "image/png": "[encoded data removed]",
      "text/plain": [
       "<Figure size 432x288 with 1 Axes>"
      ]
     },
     "metadata": {
      "needs_background": "light"
     },
     "output_type": "display_data"
    }
   ],
   "source": [
    "#### promoted analysis ####\n",
    "print('promotion counts: ')\n",
    "print(X_train['promoted'].value_counts())\n",
    "print()\n",
    "sns.countplot(X_train['promoted'])\n",
    "plt.show()"
   ]
  },
  {
   "cell_type": "markdown",
   "metadata": {},
   "source": [
    "#### Observations:\n",
    "    1. class imbalance dataset\n",
    "    2. only 8.5% of the employees are recommonded for promotion"
   ]
  },
  {
   "cell_type": "markdown",
   "metadata": {},
   "source": [
    "### Independent variables Explanatory Data Analysis"
   ]
  },
  {
   "cell_type": "markdown",
   "metadata": {},
   "source": [
    "#### 1. Average Training Score"
   ]
  },
  {
   "cell_type": "code",
   "execution_count": 13,
   "metadata": {},
   "outputs": [
    {
     "data": {
      "text/plain": [
       "count    54808.000000\n",
       "mean        63.386750\n",
       "std         13.371559\n",
       "min         39.000000\n",
       "25%         51.000000\n",
       "50%         60.000000\n",
       "75%         76.000000\n",
       "max         99.000000\n",
       "Name: avg_training_score, dtype: float64"
      ]
     },
     "execution_count": 13,
     "metadata": {},
     "output_type": "execute_result"
    }
   ],
   "source": [
    "#### description of the numerical variables ####\n",
    "X_train['avg_training_score'].describe()"
   ]
  },
  {
   "cell_type": "code",
   "execution_count": 14,
   "metadata": {},
   "outputs": [
    {
     "data": {
      "image/png": "[encoded data removed]",
      "text/plain": [
       "<Figure size 1152x288 with 4 Axes>"
      ]
     },
     "metadata": {
      "needs_background": "light"
     },
     "output_type": "display_data"
    }
   ],
   "source": [
    "##### average training score plots #####\n",
    "plt.figure(figsize=(16,4))\n",
    "\n",
    "plt.subplot(1,4,1)\n",
    "plt.hist(X_train['avg_training_score'])\n",
    "plt.xlabel(\"avg_training_score\", fontsize = 20,  color = 'darkred')\n",
    "plt.ylabel(\"frequency\", fontsize = 20, color = 'darkred')\n",
    "#plt.title(\"employee training score distribution\", fontsize = 20, color = 'darkred')\n",
    "\n",
    "plt.subplot(1,4,2)\n",
    "sns.distplot(X_train['avg_training_score'] )\n",
    "plt.xlabel(\"frequency distribution plot\", fontsize = 20, color = 'darkred')\n",
    "#plt.title(\"employee training score probability plot\", fontsize = 20, color = 'darkred')\n",
    "\n",
    "plt.subplot(1,4,3)\n",
    "stats.probplot(X_train['avg_training_score'], dist= 'norm', plot= plt)\n",
    "plt.xlabel(\"theoretical quantiles\", fontsize = 20, color = 'darkred')\n",
    "#plt.ylabel(\"observed values\", fontsize = 20, color = 'darkred')\n",
    "#plt.title(\"employee training score probability plot\", fontsize = 20, color = 'darkred')\n",
    "\n",
    "plt.subplot(1,4,4)\n",
    "sns.boxplot(X_train['avg_training_score'])\n",
    "plt.xlabel(\"training score\", fontsize = 20,  color = 'darkred')\n",
    "#plt.title(\"employee training score outliers\", fontsize = 20, color = 'darkred')\n",
    "plt.xticks(fontsize = 15)\n",
    "\n",
    "plt.show()"
   ]
  },
  {
   "cell_type": "code",
   "execution_count": 15,
   "metadata": {},
   "outputs": [
    {
     "data": {
      "text/plain": [
       "0.45190808551707995"
      ]
     },
     "execution_count": 15,
     "metadata": {},
     "output_type": "execute_result"
    }
   ],
   "source": [
    "#### checking the skewness of the average training score ####\n",
    "X_train['avg_training_score'].skew()"
   ]
  },
  {
   "cell_type": "markdown",
   "metadata": {},
   "source": [
    "#### Observations :\n",
    "    1. moderately right skewed data i.e. mean is greater than median\n",
    "    2. 50% of the employees average training score lies in the range of 51 to 76\n",
    "    3. No outliers"
   ]
  },
  {
   "cell_type": "markdown",
   "metadata": {},
   "source": [
    "#### 2. Service Years"
   ]
  },
  {
   "cell_type": "code",
   "execution_count": 16,
   "metadata": {},
   "outputs": [
    {
     "data": {
      "text/plain": [
       "count    54808.000000\n",
       "mean         5.865512\n",
       "std          4.265094\n",
       "min          1.000000\n",
       "25%          3.000000\n",
       "50%          5.000000\n",
       "75%          7.000000\n",
       "max         37.000000\n",
       "Name: service_yrs, dtype: float64"
      ]
     },
     "execution_count": 16,
     "metadata": {},
     "output_type": "execute_result"
    }
   ],
   "source": [
    "#### description of employees Service Years variable ####\n",
    "X_train['service_yrs'].describe()"
   ]
  },
  {
   "cell_type": "markdown",
   "metadata": {},
   "source": [
    "#### Observations:\n",
    "    1. 50% of the employees service yrs lies between 3 to 7 yrs\n",
    "    2. min service yrs of experience of any employee is 1 yr and max is 37 yrs\n",
    "    3. 75% of the employees service experience is less or equal to 7 yrs\n",
    "    4. Therefore based on data distribution, create bins based on quantiles of service yrs"
   ]
  },
  {
   "cell_type": "markdown",
   "metadata": {},
   "source": [
    "#### 3. Age"
   ]
  },
  {
   "cell_type": "code",
   "execution_count": 17,
   "metadata": {},
   "outputs": [
    {
     "data": {
      "text/plain": [
       "count    54808.000000\n",
       "mean        34.803915\n",
       "std          7.660169\n",
       "min         20.000000\n",
       "25%         29.000000\n",
       "50%         33.000000\n",
       "75%         39.000000\n",
       "max         60.000000\n",
       "Name: age, dtype: float64"
      ]
     },
     "execution_count": 17,
     "metadata": {},
     "output_type": "execute_result"
    }
   ],
   "source": [
    "#### description of the employees age variable ####\n",
    "X_train['age'].describe()"
   ]
  },
  {
   "cell_type": "markdown",
   "metadata": {},
   "source": [
    "#### Observations:\n",
    "    1. minimum age of the employee is 20 yrs and maximum age of the employee is 60 yrs\n",
    "    2. 50% of the employees are aged between 29 and 39 yrs of age\n",
    "    3. 75% of the employees are below 40 yrs old\n",
    "    4. Therefore based on data distribution, create bins based on quantiles of ages"
   ]
  },
  {
   "cell_type": "markdown",
   "metadata": {},
   "source": [
    "#### 4. department"
   ]
  },
  {
   "cell_type": "code",
   "execution_count": 18,
   "metadata": {},
   "outputs": [
    {
     "name": "stdout",
     "output_type": "stream",
     "text": [
      "Percentage of Department: \n"
     ]
    },
    {
     "data": {
      "image/png": "[encoded data removed]",
      "text/plain": [
       "<Figure size 864x576 with 1 Axes>"
      ]
     },
     "metadata": {},
     "output_type": "display_data"
    }
   ],
   "source": [
    "#### Analysis of Department variable  ####\n",
    "plt.figure(figsize=(12,8))\n",
    "print(\"Percentage of Department: \")\n",
    "labels = X_train.groupby(['department'])['department'].count().index\n",
    "plt.pie(X_train.groupby(['department'])['department'].count()/X_train.shape[0] * 100, autopct='%1.1f%%',  labels= labels)\n",
    "plt.legend()\n",
    "plt.xlim(1.5)\n",
    "plt.show()"
   ]
  },
  {
   "cell_type": "markdown",
   "metadata": {},
   "source": [
    "#### Observations:\n",
    "    1. 51% of the employees belong to Sales Marketing(30.9%) and Operations(20.6%)\n",
    "    2. Least no of employees belong to Legal(1.8%) and R&D department(1.8%)"
   ]
  },
  {
   "cell_type": "markdown",
   "metadata": {},
   "source": [
    "#### 5. Region"
   ]
  },
  {
   "cell_type": "code",
   "execution_count": 19,
   "metadata": {},
   "outputs": [],
   "source": [
    "#### Analysis of Region variable  ####\n",
    "#### Handling Rare Labels Function ####\n",
    "def f_find_frequent_labels (dataset, var, threshold) :\n",
    "    tmp = dataset.groupby([var]).size()/dataset.shape[0]\n",
    "    frequent_ls = tmp[tmp > threshold].index\n",
    "    return frequent_ls"
   ]
  },
  {
   "cell_type": "code",
   "execution_count": 20,
   "metadata": {},
   "outputs": [],
   "source": [
    "#### Handling rare labels of Region categories based on Frequency distribution ####\n",
    "freq_region_lst = f_find_frequent_labels(X_train, \"region\", 0.01)"
   ]
  },
  {
   "cell_type": "code",
   "execution_count": 21,
   "metadata": {},
   "outputs": [],
   "source": [
    "#### Handling Rare label for region code #####\n",
    "X_train[\"region_rare\"] = np.where(X_train[\"region\"].isin(freq_region_lst), X_train[\"region\"], 'others' )"
   ]
  },
  {
   "cell_type": "code",
   "execution_count": 22,
   "metadata": {},
   "outputs": [
    {
     "name": "stdout",
     "output_type": "stream",
     "text": [
      "region_2     22.520435\n",
      "region_22    11.728215\n",
      "region_7      8.836301\n",
      "region_15     5.123340\n",
      "others        5.066779\n",
      "region_13     4.831411\n",
      "region_26     4.123486\n",
      "region_31     3.530506\n",
      "region_4      3.107211\n",
      "region_27     3.026930\n",
      "region_16     2.672967\n",
      "region_28     2.404758\n",
      "region_11     2.399285\n",
      "region_23     2.143848\n",
      "region_29     1.813604\n",
      "region_32     1.724201\n",
      "region_19     1.594658\n",
      "region_20     1.550868\n",
      "region_14     1.508904\n",
      "region_25     1.494307\n",
      "region_17     1.452343\n",
      "region_5      1.397606\n",
      "region_6      1.258940\n",
      "region_30     1.198730\n",
      "region_8      1.195081\n",
      "region_10     1.182309\n",
      "region_1      1.112976\n",
      "Name: region_rare, dtype: float64\n",
      "Cnt of total regions:  27\n"
     ]
    },
    {
     "data": {
      "image/png": "[encoded data removed]",
      "text/plain": [
       "<Figure size 1152x288 with 1 Axes>"
      ]
     },
     "metadata": {
      "needs_background": "light"
     },
     "output_type": "display_data"
    },
    {
     "data": {
      "text/plain": [
       "(54808, 15)"
      ]
     },
     "execution_count": 22,
     "metadata": {},
     "output_type": "execute_result"
    }
   ],
   "source": [
    "#### Analysis of Region after handling rare regions ####\n",
    "plt.figure(figsize= (16, 4))\n",
    "print(X_train[\"region_rare\"].value_counts()/X_train.shape[0] * 100)\n",
    "print(\"Cnt of total regions: \", X_train[\"region_rare\"].nunique())\n",
    "sns.countplot(X_train['region_rare'])\n",
    "plt.show()\n",
    "X_train.shape"
   ]
  },
  {
   "cell_type": "markdown",
   "metadata": {},
   "source": [
    "#### 6. Education"
   ]
  },
  {
   "cell_type": "code",
   "execution_count": 23,
   "metadata": {},
   "outputs": [],
   "source": [
    "#### replacing nan education value ####\n",
    "def f_edu_impute (dataset):\n",
    "    edu = []\n",
    "    \n",
    "    for i in range(0, dataset.shape[0]) :\n",
    "        if pd.isna(dataset['education'][i]) :       \n",
    "            if dataset['region'][i] == 'region_3' :\n",
    "                if dataset['gender'][i] == 'm' :\n",
    "                    #dataset['education'][i] = \"Bachelor's\"\n",
    "                    edu.append(\"Bachelor's\")\n",
    "                else:\n",
    "                    #dataset['education'][i] = \"Master's & above\"\n",
    "                    edu.append(\"Master's & above\")\n",
    "            elif dataset['region'][i] == 'region_10' :\n",
    "                #dataset['education'][i] = \"Master's & above\"\n",
    "                edu.append(\"Master's & above\")\n",
    "            else :\n",
    "                #dataset['education'][i] =  \"Bachelor's\"  \n",
    "                edu.append(\"Bachelor's\")\n",
    "        else :\n",
    "            edu.append(dataset['education'][i])\n",
    "            \n",
    "    return edu"
   ]
  },
  {
   "cell_type": "code",
   "execution_count": 24,
   "metadata": {},
   "outputs": [
    {
     "name": "stdout",
     "output_type": "stream",
     "text": [
      "54808\n"
     ]
    },
    {
     "data": {
      "text/plain": [
       "(54808, 16)"
      ]
     },
     "execution_count": 24,
     "metadata": {},
     "output_type": "execute_result"
    }
   ],
   "source": [
    "#### calling f_edu_impute impute function ####\n",
    "edu = list(f_edu_impute(X_train))\n",
    "print(len(edu))\n",
    "#### adding new column education_nan ####\n",
    "X_train['education_nan'] = edu\n",
    "X_train.shape"
   ]
  },
  {
   "cell_type": "markdown",
   "metadata": {},
   "source": [
    "#### 7. Gender"
   ]
  },
  {
   "cell_type": "code",
   "execution_count": 25,
   "metadata": {},
   "outputs": [
    {
     "name": "stdout",
     "output_type": "stream",
     "text": [
      "m    38496\n",
      "f    16312\n",
      "Name: gender, dtype: int64\n"
     ]
    },
    {
     "data": {
      "image/png": "[encoded data removed]",
      "text/plain": [
       "<Figure size 432x288 with 1 Axes>"
      ]
     },
     "metadata": {
      "needs_background": "light"
     },
     "output_type": "display_data"
    }
   ],
   "source": [
    "#### Analysis of Gender variable  ####\n",
    "print(X_train['gender'].value_counts())\n",
    "sns.countplot(X_train['gender'])\n",
    "plt.show()"
   ]
  },
  {
   "cell_type": "markdown",
   "metadata": {},
   "source": [
    "#### Observations :\n",
    "    1. 30% of the employees are females\n",
    "    2. 70% of the employees are males"
   ]
  },
  {
   "cell_type": "code",
   "execution_count": 26,
   "metadata": {},
   "outputs": [
    {
     "data": {
      "text/plain": [
       "(54808, 17)"
      ]
     },
     "execution_count": 26,
     "metadata": {},
     "output_type": "execute_result"
    }
   ],
   "source": [
    "#### gender label encoding ####\n",
    "X_train['gender_le'] = np.where(X_train['gender'] == 'm', 1, 0)\n",
    "X_train.shape"
   ]
  },
  {
   "cell_type": "markdown",
   "metadata": {},
   "source": [
    "#### 8. Trainings Attended"
   ]
  },
  {
   "cell_type": "code",
   "execution_count": 27,
   "metadata": {},
   "outputs": [
    {
     "name": "stdout",
     "output_type": "stream",
     "text": [
      "Percentage of No of Trainings Attended: \n"
     ]
    },
    {
     "data": {
      "image/png": "[encoded data removed]",
      "text/plain": [
       "<Figure size 576x288 with 1 Axes>"
      ]
     },
     "metadata": {},
     "output_type": "display_data"
    }
   ],
   "source": [
    "#### Analysis of Trainings Attended variable  ####\n",
    "plt.figure(figsize=(8,4))\n",
    "print(\"Percentage of No of Trainings Attended: \")\n",
    "labels = X_train.groupby(['trainings_attended'])['trainings_attended'].count().index\n",
    "plt.pie(X_train.groupby(['trainings_attended'])['trainings_attended'].count()/X_train.shape[0] * 100, autopct='%1.1f%%',  labels= labels)\n",
    "plt.legend()\n",
    "plt.xlim(1.5)\n",
    "plt.show()"
   ]
  },
  {
   "cell_type": "markdown",
   "metadata": {},
   "source": [
    "#### Observations :\n",
    "    1. 81% of the employees attended only one training program in previous year\n",
    "    2. 14.5% of the employees atteneded two training programs in previous year\n",
    "    3. Only 4.5% of the employees attended more than two training programs in previous year"
   ]
  },
  {
   "cell_type": "markdown",
   "metadata": {},
   "source": [
    "#### 9. Previous Rating"
   ]
  },
  {
   "cell_type": "code",
   "execution_count": 28,
   "metadata": {},
   "outputs": [
    {
     "data": {
      "text/plain": [
       "(54808, 18)"
      ]
     },
     "execution_count": 28,
     "metadata": {},
     "output_type": "execute_result"
    }
   ],
   "source": [
    "#### handling of Nan values for Previous Rating ####\n",
    "X_train['previous_rating_nan'] = X_train['previous_rating'].fillna(0)\n",
    "X_train.shape"
   ]
  },
  {
   "cell_type": "code",
   "execution_count": 29,
   "metadata": {},
   "outputs": [
    {
     "name": "stdout",
     "output_type": "stream",
     "text": [
      "3.0    33.969494\n",
      "5.0    21.422055\n",
      "4.0    18.021092\n",
      "1.0    11.354182\n",
      "2.0     7.708729\n",
      "0.0     7.524449\n",
      "Name: previous_rating_nan, dtype: float64\n"
     ]
    },
    {
     "data": {
      "image/png": "[encoded data removed]",
      "text/plain": [
       "<Figure size 432x288 with 1 Axes>"
      ]
     },
     "metadata": {
      "needs_background": "light"
     },
     "output_type": "display_data"
    }
   ],
   "source": [
    "#### Analysis of Trainings Attended variable  ####\n",
    "print(X_train['previous_rating_nan'].value_counts()/X_train.shape[0] * 100)\n",
    "sns.countplot(X_train['previous_rating_nan'])\n",
    "plt.show()"
   ]
  },
  {
   "cell_type": "markdown",
   "metadata": {},
   "source": [
    "#### Observations :\n",
    "    1. 7.5% of the employees are new joiners\n",
    "    2. 21.4% of the employees were top performers for the previous year\n",
    "    3. 34% of the employees were average performers for the previous year\n",
    "    4. 19% of the employees were below average performers for the previous year\n",
    "    5. 39.4% of the employees were above average performers for the previous year"
   ]
  },
  {
   "cell_type": "markdown",
   "metadata": {},
   "source": [
    "#### 10. Key Performance Indicator (KPI) "
   ]
  },
  {
   "cell_type": "code",
   "execution_count": 30,
   "metadata": {},
   "outputs": [
    {
     "name": "stdout",
     "output_type": "stream",
     "text": [
      "0    35517\n",
      "1    19291\n",
      "Name: kpi, dtype: int64\n"
     ]
    },
    {
     "data": {
      "image/png": "[encoded data removed]",
      "text/plain": [
       "<Figure size 432x288 with 1 Axes>"
      ]
     },
     "metadata": {
      "needs_background": "light"
     },
     "output_type": "display_data"
    }
   ],
   "source": [
    "#### Analysis of KPI variable  ####\n",
    "print(X_train['kpi'].value_counts())\n",
    "sns.countplot(X_train['kpi'] )\n",
    "plt.show()"
   ]
  },
  {
   "cell_type": "markdown",
   "metadata": {},
   "source": [
    "#### Observations : \n",
    "    1. Only 35% of the employees met KPI\n",
    "    2. 65% of the employees didn't meet the KPI"
   ]
  },
  {
   "cell_type": "markdown",
   "metadata": {},
   "source": [
    "#### 11. Awarded"
   ]
  },
  {
   "cell_type": "code",
   "execution_count": 31,
   "metadata": {},
   "outputs": [
    {
     "name": "stdout",
     "output_type": "stream",
     "text": [
      "Percentage of employees Awarded last year: \n"
     ]
    },
    {
     "data": {
      "image/png": "[encoded data removed]",
      "text/plain": [
       "<Figure size 576x288 with 1 Axes>"
      ]
     },
     "metadata": {},
     "output_type": "display_data"
    }
   ],
   "source": [
    "#### Analysis of Awarded variable  ####\n",
    "plt.figure(figsize=(8,4))\n",
    "print(\"Percentage of employees Awarded last year: \")\n",
    "labels = X_train.groupby(['awarded'])['awarded'].count().index\n",
    "plt.pie(X_train.groupby(['awarded'])['awarded'].count()/X_train.shape[0] * 100, autopct='%1.1f%%',  labels= labels)\n",
    "plt.legend()\n",
    "plt.xlim(1.5)\n",
    "plt.show()"
   ]
  },
  {
   "cell_type": "markdown",
   "metadata": {},
   "source": [
    "#### Observations :\n",
    "    1. Only 2.3% of the employees have won the award in previous year\n",
    "    2. 97.7% of the employees haven't won the award in previous year"
   ]
  },
  {
   "cell_type": "code",
   "execution_count": null,
   "metadata": {},
   "outputs": [],
   "source": []
  },
  {
   "cell_type": "markdown",
   "metadata": {},
   "source": [
    "#### pickling ####"
   ]
  },
  {
   "cell_type": "code",
   "execution_count": 32,
   "metadata": {},
   "outputs": [
    {
     "name": "stdout",
     "output_type": "stream",
     "text": [
      "(54808, 18)\n",
      "['df_train_eda.pkl']\n"
     ]
    }
   ],
   "source": [
    "#### pickling train dataset for further processing ####\n",
    "print(X_train.shape)\n",
    "print(joblib.dump(X_train, \"df_train_eda.pkl\"))"
   ]
  },
  {
   "cell_type": "code",
   "execution_count": 33,
   "metadata": {},
   "outputs": [
    {
     "name": "stdout",
     "output_type": "stream",
     "text": [
      "['preprocessing.pkl']\n"
     ]
    }
   ],
   "source": [
    "#### preprocessing #####\n",
    "print(joblib.dump(freq_region_lst, \"preprocessing.pkl\"))"
   ]
  },
  {
   "cell_type": "code",
   "execution_count": null,
   "metadata": {},
   "outputs": [],
   "source": []
  },
  {
   "cell_type": "markdown",
   "metadata": {},
   "source": [
    "### Comments are appreciated on the approach.. Thank You "
   ]
  },
  {
   "cell_type": "code",
   "execution_count": null,
   "metadata": {},
   "outputs": [],
   "source": []
  },
  {
   "cell_type": "code",
   "execution_count": null,
   "metadata": {},
   "outputs": [],
   "source": []
  },
  {
   "cell_type": "code",
   "execution_count": null,
   "metadata": {},
   "outputs": [],
   "source": []
  }
 ],
 "metadata": {
  "kernelspec": {
   "display_name": "Python 3",
   "language": "python",
   "name": "python3"
  },
  "language_info": {
   "codemirror_mode": {
    "name": "ipython",
    "version": 3
   },
   "file_extension": ".py",
   "mimetype": "text/x-python",
   "name": "python",
   "nbconvert_exporter": "python",
   "pygments_lexer": "ipython3",
   "version": "3.7.3"
  }
 },
 "nbformat": 4,
 "nbformat_minor": 2
}
